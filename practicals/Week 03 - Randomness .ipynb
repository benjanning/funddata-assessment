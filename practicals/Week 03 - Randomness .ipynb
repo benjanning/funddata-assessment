{
 "cells": [
  {
   "cell_type": "markdown",
   "id": "e63f8596",
   "metadata": {},
   "source": [
    "## Exercise 1\n",
    "### 'Note that there are the same number of ways to get 4 tails as there are to get 4 heads. Explain why this is.'"
   ]
  },
  {
   "cell_type": "markdown",
   "id": "a9a62627",
   "metadata": {},
   "source": [
    "When flipping a coin there is a 50/50 chance of the outcome being either heads or tails.  Each time the coin is being tossed, previous outcomes hold no weight in predicting future outcomes.  The odds are always 50/50, even if there are 10 heads in a row the odds of a heads are still 50/50."
   ]
  },
  {
   "cell_type": "markdown",
   "id": "5915db6e",
   "metadata": {},
   "source": [
    "The number of different possible outcomes in 10 coin tosses for heads can also be applied for tails, as they hold equal probabilities."
   ]
  },
  {
   "cell_type": "code",
   "execution_count": 9,
   "id": "60ce8d00",
   "metadata": {},
   "outputs": [
    {
     "data": {
      "text/plain": [
       "252"
      ]
     },
     "execution_count": 9,
     "metadata": {},
     "output_type": "execute_result"
    }
   ],
   "source": [
    "(10 * 9 * 8 * 7 * 6) // (5 * 4 * 3 * 2 * 1)"
   ]
  },
  {
   "cell_type": "code",
   "execution_count": null,
   "id": "7636988e",
   "metadata": {},
   "outputs": [],
   "source": [
    "*More Code Here*"
   ]
  },
  {
   "cell_type": "code",
   "execution_count": null,
   "id": "c740946a",
   "metadata": {},
   "outputs": [],
   "source": []
  },
  {
   "cell_type": "code",
   "execution_count": null,
   "id": "515c8ec0",
   "metadata": {},
   "outputs": [],
   "source": []
  },
  {
   "cell_type": "code",
   "execution_count": null,
   "id": "e0782665",
   "metadata": {},
   "outputs": [],
   "source": []
  },
  {
   "cell_type": "markdown",
   "id": "2f314a89",
   "metadata": {},
   "source": [
    "## Exercise 2\n",
    "### It is somewhat interesting that ( 5 * 4 * 3 * 2 * 1) perfectly divides (10 * 9 * 8 * 7 * 6) - there's no remainder.\n",
    "### If we only wanted 4 heads as opposed to 5, the equivalent calculation would be (10 * 9 * 8 * 7) / (4 * 3 * 2 * 1)\n",
    "### Does that Divide Evenly too? What is the formula in General?\n",
    "### Does it Always Come out as a positive whole number?  "
   ]
  },
  {
   "cell_type": "code",
   "execution_count": null,
   "id": "d59eda72",
   "metadata": {},
   "outputs": [],
   "source": []
  },
  {
   "cell_type": "markdown",
   "id": "8e3d1328",
   "metadata": {},
   "source": [
    "Note: The rule followed for the Maths here is referred to as Order of Operations and BODMAS (Brackets, Orders of Powers or Roots, Division, Multiplication, Addition, Subtraction), which tells us to work from left to right and do our calculations in the order mentioned above."
   ]
  },
  {
   "cell_type": "code",
   "execution_count": 1,
   "id": "844e9189",
   "metadata": {},
   "outputs": [
    {
     "data": {
      "text/plain": [
       "210.0"
      ]
     },
     "execution_count": 1,
     "metadata": {},
     "output_type": "execute_result"
    }
   ],
   "source": [
    "(10 * 9 * 8 * 7) / (4 * 3 * 2 * 1)\n"
   ]
  },
  {
   "cell_type": "markdown",
   "id": "6afb62a2",
   "metadata": {},
   "source": [
    "Our result divides evenly too. The result always comes out as a positive whole number (but not always equally divisible), which can be seen for the formulas for 3 heads, 2 heads below:"
   ]
  },
  {
   "cell_type": "code",
   "execution_count": 5,
   "id": "c67fbf9e",
   "metadata": {},
   "outputs": [
    {
     "data": {
      "text/plain": [
       "120.0"
      ]
     },
     "execution_count": 5,
     "metadata": {},
     "output_type": "execute_result"
    }
   ],
   "source": [
    "(10 * 9 * 8) / (3 * 2 *1)"
   ]
  },
  {
   "cell_type": "code",
   "execution_count": 6,
   "id": "5b73616c",
   "metadata": {},
   "outputs": [
    {
     "data": {
      "text/plain": [
       "45.0"
      ]
     },
     "execution_count": 6,
     "metadata": {},
     "output_type": "execute_result"
    }
   ],
   "source": [
    "(10 * 9) / (2 *1)"
   ]
  },
  {
   "cell_type": "code",
   "execution_count": null,
   "id": "41d01472",
   "metadata": {},
   "outputs": [],
   "source": []
  },
  {
   "cell_type": "code",
   "execution_count": null,
   "id": "9aa9ae95",
   "metadata": {},
   "outputs": [],
   "source": []
  },
  {
   "cell_type": "code",
   "execution_count": null,
   "id": "fd5e34bb",
   "metadata": {},
   "outputs": [],
   "source": []
  },
  {
   "cell_type": "markdown",
   "id": "536e4f46",
   "metadata": {},
   "source": [
    "## References\n",
    "https://extranet.education.unimelb.edu.au/SME/TNMY/Arithmetic/wholenumbers/operations/orderofops.htm\n",
    "https://thirdspacelearning.com/blog/what-is-bodmas/#:~:text=BODMAS%20is%20an%20acronym%20to,%2DAddition%2C%20S%2DSubtraction."
   ]
  },
  {
   "cell_type": "code",
   "execution_count": null,
   "id": "0c385a8d",
   "metadata": {},
   "outputs": [],
   "source": []
  },
  {
   "cell_type": "code",
   "execution_count": null,
   "id": "5475576f",
   "metadata": {},
   "outputs": [],
   "source": []
  }
 ],
 "metadata": {
  "kernelspec": {
   "display_name": "Python 3 (ipykernel)",
   "language": "python",
   "name": "python3"
  },
  "language_info": {
   "codemirror_mode": {
    "name": "ipython",
    "version": 3
   },
   "file_extension": ".py",
   "mimetype": "text/x-python",
   "name": "python",
   "nbconvert_exporter": "python",
   "pygments_lexer": "ipython3",
   "version": "3.10.2"
  }
 },
 "nbformat": 4,
 "nbformat_minor": 5
}

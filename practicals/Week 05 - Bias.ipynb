{
 "cells": [
  {
   "cell_type": "markdown",
   "id": "6714f00e",
   "metadata": {},
   "source": [
    "## Guessing Game\n",
    "\n",
    "Below is some code that you shouldn't try to understand for now.\n",
    "\n",
    "The game is to, in English, give a precise rule that describes when the function returns True."
   ]
  },
  {
   "cell_type": "code",
   "execution_count": null,
   "id": "ea725742",
   "metadata": {},
   "outputs": [],
   "source": [
    "# This code is obfuscated on purpose.\n",
    "import operator as o__\n",
    "\n",
    "def test(L):\n",
    "    return True if o__.__ge__(0b10001, len(L) * 2 + sum([i - 0b10 for i in L])) and all([o__.__ge__(L[::-1][i], L[::-1][i+0b1]) for i in range(len(L)-1)]) else False"
   ]
  },
  {
   "cell_type": "markdown",
   "id": "97fb6735",
   "metadata": {},
   "source": [
    "So, we can repeatedly call the function as follows, with different lists of integers."
   ]
  },
  {
   "cell_type": "code",
   "execution_count": null,
   "id": "f5e52eeb",
   "metadata": {},
   "outputs": [],
   "source": [
    "test([1, 2, 3, 4])"
   ]
  },
  {
   "cell_type": "code",
   "execution_count": null,
   "id": "d320ff1a",
   "metadata": {},
   "outputs": [],
   "source": [
    "test([2, 3])"
   ]
  },
  {
   "cell_type": "code",
   "execution_count": null,
   "id": "500866a6",
   "metadata": {},
   "outputs": [],
   "source": [
    "test([3, 2, 1])"
   ]
  },
  {
   "cell_type": "code",
   "execution_count": null,
   "id": "70417d7e",
   "metadata": {},
   "outputs": [],
   "source": [
    "test([1, 2, 3, 10])"
   ]
  },
  {
   "cell_type": "code",
   "execution_count": null,
   "id": "9ebb1b2a",
   "metadata": {},
   "outputs": [],
   "source": [
    "test([1, 3, 2])"
   ]
  },
  {
   "cell_type": "markdown",
   "id": "9f11534d",
   "metadata": {},
   "source": [
    "So what is the rule?\n",
    "\n",
    "How confident are you that that is the rule?\n",
    "\n",
    "Let's test your rule.\n",
    "\n",
    "Tell me what the outputs of the following code should be."
   ]
  },
  {
   "cell_type": "code",
   "execution_count": null,
   "id": "b1c44d92",
   "metadata": {},
   "outputs": [],
   "source": [
    "test([1, 2, 3, 4])"
   ]
  },
  {
   "cell_type": "code",
   "execution_count": null,
   "id": "f3b11d0e",
   "metadata": {},
   "outputs": [],
   "source": [
    "test([2, 3, 5, 10])"
   ]
  },
  {
   "cell_type": "code",
   "execution_count": null,
   "id": "01fd7f8c",
   "metadata": {},
   "outputs": [],
   "source": [
    "Note that the point here is to think about your confidence in your answer and how you got confident."
   ]
  }
 ],
 "metadata": {
  "kernelspec": {
   "display_name": "Python 3 (ipykernel)",
   "language": "python",
   "name": "python3"
  },
  "language_info": {
   "codemirror_mode": {
    "name": "ipython",
    "version": 3
   },
   "file_extension": ".py",
   "mimetype": "text/x-python",
   "name": "python",
   "nbconvert_exporter": "python",
   "pygments_lexer": "ipython3",
   "version": "3.10.2"
  }
 },
 "nbformat": 4,
 "nbformat_minor": 5
}

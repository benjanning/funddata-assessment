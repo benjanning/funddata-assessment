{
 "cells": [
  {
   "cell_type": "markdown",
   "id": "2aba5e93",
   "metadata": {},
   "source": [
    "Week 2 - Entropy"
   ]
  },
  {
   "cell_type": "markdown",
   "id": "46a695a7",
   "metadata": {},
   "source": [
    "Task - Explain Why the Log of 0 is undefined:"
   ]
  },
  {
   "cell_type": "markdown",
   "id": "f7dc0edb",
   "metadata": {},
   "source": [
    "References: mclph.umn.edu - https://tinyurl.com/mubzrahh. Date Accessed: 10/10/2022\n",
    "            Fast and Easy Maths - YouTube - https://www.youtube.com/watch?v=j6scVL0Cp2k Date Accessed: 10/10/2022"
   ]
  },
  {
   "cell_type": "markdown",
   "id": "d528a5d0",
   "metadata": {},
   "source": [
    "Answer: It is impossible to get the answer 0 by raising any number by the power of any other number.  Therefore: It cannot have a log, it is not a real number and hence \"undefined\".  "
   ]
  },
  {
   "cell_type": "markdown",
   "id": "81f4c080",
   "metadata": {},
   "source": [
    "Information Entropy - Coding Exercises"
   ]
  },
  {
   "cell_type": "code",
   "execution_count": 1,
   "id": "a40798c7",
   "metadata": {},
   "outputs": [
    {
     "name": "stdout",
     "output_type": "stream",
     "text": [
      "1.0\n"
     ]
    }
   ],
   "source": [
    "import math\n",
    "\n",
    "print(-math.log(0.5, 2))"
   ]
  },
  {
   "cell_type": "code",
   "execution_count": null,
   "id": "1b51c8f7",
   "metadata": {},
   "outputs": [],
   "source": [
    "print(-math.log(0.25, 2))"
   ]
  },
  {
   "cell_type": "code",
   "execution_count": null,
   "id": "a7dd3335",
   "metadata": {},
   "outputs": [],
   "source": [
    "print(-math.log(0.75, 2))"
   ]
  },
  {
   "cell_type": "code",
   "execution_count": null,
   "id": "4607b81a",
   "metadata": {},
   "outputs": [],
   "source": [
    "# The probability of a 0 occuring, or a 1 occuring\n",
    "\n",
    "p = [0.5, 0.5]\n",
    "\n",
    "# Using the mathematical Formula\n",
    "\n",
    "-sum([p_i * math.log(p_i, 2) for p_i in p])"
   ]
  },
  {
   "cell_type": "code",
   "execution_count": null,
   "id": "67535845",
   "metadata": {},
   "outputs": [],
   "source": [
    "# Same idea, altered probabilities\n",
    "\n",
    "p = [0.25, 0.75]\n",
    "\n",
    "-sum([p_i * math.log(p_i, 2) for p_i in p])"
   ]
  },
  {
   "cell_type": "code",
   "execution_count": null,
   "id": "dfe8f480",
   "metadata": {},
   "outputs": [],
   "source": [
    "# Using Matplotlib for Plotting the Probabilities\n",
    "\n",
    "import matplotlib.pyplot as plt\n",
    "\n",
    "# Numpy for Calculations.\n",
    "import numpy as np\n",
    "\n",
    "# The possible probabilities.\n",
    "\n",
    "\n",
    "p_of_1 = np.linspace(0.01, 0.99, 1000)\n",
    "\n",
    "# Entropy - (Lack of order or Predictability)\n",
    "\n",
    "entropy = - (p_of_1 * np.log2(p_of_1) + (1.0 - p_of_1) * np.log2(1.0 - p_of_1))\n",
    "\n",
    "# Create the plot.\n",
    "\n",
    "fig, ax = plt.subplots(figsize=(14, 6))\n",
    "ax.plot(p_of_1, entropy, color='#ff791e')\n",
    "\n",
    "# Label the axes.\n",
    "ax.set_xlabel('Probability the bit is 1, not 0.')\n",
    "ax.set_ylabel('Entropy');"
   ]
  },
  {
   "cell_type": "markdown",
   "id": "1e0e5984",
   "metadata": {},
   "source": [
    "Entropy of a Fire Alarm"
   ]
  },
  {
   "cell_type": "code",
   "execution_count": null,
   "id": "fb59dee5",
   "metadata": {},
   "outputs": [],
   "source": [
    "# Minutes in a (non-leap) year.\n",
    "mins_in_year = 365 * 24 * 60\n",
    "mins_in_year"
   ]
  },
  {
   "cell_type": "code",
   "execution_count": null,
   "id": "b03e68a2",
   "metadata": {},
   "outputs": [],
   "source": [
    "# Probability of it screeching.\n",
    "p_screech = 10 / 525600\n",
    "print(p_screech)"
   ]
  },
  {
   "cell_type": "code",
   "execution_count": null,
   "id": "b47acd93",
   "metadata": {},
   "outputs": [],
   "source": [
    "# Information content of a screech.\n",
    "-math.log(p_screech, 2)"
   ]
  },
  {
   "cell_type": "code",
   "execution_count": null,
   "id": "a5438a96",
   "metadata": {},
   "outputs": [],
   "source": [
    "# Information content of no screech.\n",
    "-math.log(1.0 - p_screech, 2)"
   ]
  },
  {
   "cell_type": "code",
   "execution_count": null,
   "id": "d011a8ed",
   "metadata": {},
   "outputs": [],
   "source": [
    "# Entropy of the fire alarm as a source of information.\n",
    "p = [p_screech, 1.0 - p_screech]\n",
    "entropy = -sum([p_i * math.log(p_i, 2) for p_i in p])\n",
    "\n",
    "print(f'{entropy} bits')"
   ]
  },
  {
   "cell_type": "markdown",
   "id": "9bc165b2",
   "metadata": {},
   "source": [
    "Entropy of a Pin Code"
   ]
  },
  {
   "cell_type": "code",
   "execution_count": null,
   "id": "7dcc2324",
   "metadata": {},
   "outputs": [],
   "source": [
    "# A four digit PIN has 10,000 possible values.\n",
    "-math.log(1.0/10000.0, 2)"
   ]
  },
  {
   "cell_type": "code",
   "execution_count": null,
   "id": "771d8f49",
   "metadata": {},
   "outputs": [],
   "source": [
    "# Entropy of a four-digit PIN code.\n",
    "p = [1.0 / 10000.0 for i in range(10000)]\n",
    "entropy = -sum([p_i * math.log(p_i, 2) for p_i in p])\n",
    "\n",
    "print(f'{entropy} bits')"
   ]
  },
  {
   "cell_type": "code",
   "execution_count": null,
   "id": "644cec96",
   "metadata": {},
   "outputs": [],
   "source": [
    "# Entropy of a six-digit PIN code.\n",
    "p = [1.0 / 1000000.0 for i in range(1000000)]\n",
    "entropy = -sum([p_i * math.log(p_i, 2) for p_i in p])\n",
    "\n",
    "print(f'{entropy} bits')"
   ]
  },
  {
   "cell_type": "code",
   "execution_count": null,
   "id": "4b0bca3f",
   "metadata": {},
   "outputs": [],
   "source": []
  },
  {
   "cell_type": "code",
   "execution_count": null,
   "id": "80783f92",
   "metadata": {},
   "outputs": [],
   "source": []
  },
  {
   "cell_type": "code",
   "execution_count": null,
   "id": "b726925f",
   "metadata": {},
   "outputs": [],
   "source": []
  },
  {
   "cell_type": "code",
   "execution_count": null,
   "id": "4ac97d75",
   "metadata": {},
   "outputs": [],
   "source": []
  }
 ],
 "metadata": {
  "kernelspec": {
   "display_name": "Python 3 (ipykernel)",
   "language": "python",
   "name": "python3"
  },
  "language_info": {
   "codemirror_mode": {
    "name": "ipython",
    "version": 3
   },
   "file_extension": ".py",
   "mimetype": "text/x-python",
   "name": "python",
   "nbconvert_exporter": "python",
   "pygments_lexer": "ipython3",
   "version": "3.10.2"
  }
 },
 "nbformat": 4,
 "nbformat_minor": 5
}

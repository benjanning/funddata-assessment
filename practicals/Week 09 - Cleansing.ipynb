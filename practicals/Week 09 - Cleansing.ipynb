{
 "cells": [
  {
   "cell_type": "markdown",
   "id": "96be6780",
   "metadata": {},
   "source": [
    "# Data Cleansing \n",
    "\n",
    "Code Referenced: \n",
    "\n",
    "Ian Mc Loughlin: Cleansing\n",
    "\n",
    "https://docs.python.org/3/library/re.html\n",
    "\n",
    "https://realpython.com/regex-python/\n",
    "\n",
    "https://developers.google.com/edu/python/regular-expressions\n",
    "\n",
    "***"
   ]
  },
  {
   "cell_type": "code",
   "execution_count": 1,
   "id": "dc2537ca",
   "metadata": {},
   "outputs": [],
   "source": [
    "# Regular Expression\n",
    "\n",
    "import re"
   ]
  },
  {
   "cell_type": "code",
   "execution_count": 2,
   "id": "03fc5422",
   "metadata": {},
   "outputs": [],
   "source": [
    "# Matches a \"word\" character: a letter or digit or underscore [a-zA-Z0-9_].\n",
    "# \\w = '[a-zA-Z0-9_]'\n",
    "\n",
    "# Matches any non-word character.\n",
    "# \\W = '[^a-zA-Z0-9_]'"
   ]
  },
  {
   "cell_type": "code",
   "execution_count": 3,
   "id": "006c8cb9",
   "metadata": {},
   "outputs": [
    {
     "name": "stdout",
     "output_type": "stream",
     "text": [
      "['Words', 'words', 'words', '']\n"
     ]
    }
   ],
   "source": [
    "# A string to be manipulated.\n",
    "original = 'Words, words, words.'\n",
    "\n",
    "# The pattern/regular expression to use on the above string.\n",
    "pattern = r'\\W+'\n",
    "\n",
    "# Splits a string into substrings using a regular expression.\n",
    "result = re.split(pattern, original)\n",
    "\n",
    "# Print the result.\n",
    "print(result)"
   ]
  },
  {
   "cell_type": "code",
   "execution_count": 4,
   "id": "62a15ff5",
   "metadata": {},
   "outputs": [
    {
     "name": "stdout",
     "output_type": "stream",
     "text": [
      "['Words', ', ', 'words', ', ', 'words', '.', '']\n"
     ]
    }
   ],
   "source": [
    "# A string to be manipulated.\n",
    "original = 'Words, words, words.'\n",
    "\n",
    "# The pattern/regular expression to use on the above string.\n",
    "pattern = r'(\\W+)'\n",
    "\n",
    "# Splits a string into substrings using a regular expression.\n",
    "result = re.split(pattern, original)\n",
    "\n",
    "# Print the result.\n",
    "print(result)"
   ]
  },
  {
   "cell_type": "code",
   "execution_count": 5,
   "id": "38a2290c",
   "metadata": {},
   "outputs": [
    {
     "data": {
      "text/plain": [
       "['Words', 'words, words.']"
      ]
     },
     "execution_count": 5,
     "metadata": {},
     "output_type": "execute_result"
    }
   ],
   "source": [
    "re.split(r'\\W+', 'Words, words, words.', 1)\n"
   ]
  },
  {
   "cell_type": "code",
   "execution_count": 6,
   "id": "20ca72be",
   "metadata": {},
   "outputs": [
    {
     "data": {
      "text/plain": [
       "['0', '3', '9']"
      ]
     },
     "execution_count": 6,
     "metadata": {},
     "output_type": "execute_result"
    }
   ],
   "source": [
    "re.split('[a-f]+', '0a3B9', flags=re.IGNORECASE)"
   ]
  },
  {
   "cell_type": "markdown",
   "id": "2a3078ef",
   "metadata": {},
   "source": [
    "## Real Python\n",
    "\n",
    "***"
   ]
  },
  {
   "cell_type": "code",
   "execution_count": 7,
   "id": "6655fe9d",
   "metadata": {},
   "outputs": [
    {
     "data": {
      "text/plain": [
       "True"
      ]
     },
     "execution_count": 7,
     "metadata": {},
     "output_type": "execute_result"
    }
   ],
   "source": [
    "'abccba' == 'abccba'"
   ]
  },
  {
   "cell_type": "code",
   "execution_count": 8,
   "id": "d82f64c3",
   "metadata": {},
   "outputs": [
    {
     "data": {
      "text/plain": [
       "False"
      ]
     },
     "execution_count": 8,
     "metadata": {},
     "output_type": "execute_result"
    }
   ],
   "source": [
    "'abccba' == 'cbaabc'\n"
   ]
  },
  {
   "cell_type": "code",
   "execution_count": 9,
   "id": "e500f9e5",
   "metadata": {},
   "outputs": [
    {
     "data": {
      "text/plain": [
       "True"
      ]
     },
     "execution_count": 9,
     "metadata": {},
     "output_type": "execute_result"
    }
   ],
   "source": [
    "'abc' in 'cbaabc'\n"
   ]
  },
  {
   "cell_type": "code",
   "execution_count": 10,
   "id": "bf0c65a1",
   "metadata": {},
   "outputs": [
    {
     "data": {
      "text/plain": [
       "2"
      ]
     },
     "execution_count": 10,
     "metadata": {},
     "output_type": "execute_result"
    }
   ],
   "source": [
    "'cbaabc'.index('a')"
   ]
  },
  {
   "cell_type": "code",
   "execution_count": 11,
   "id": "069450e0",
   "metadata": {},
   "outputs": [
    {
     "data": {
      "text/plain": [
       "'a'"
      ]
     },
     "execution_count": 11,
     "metadata": {},
     "output_type": "execute_result"
    }
   ],
   "source": [
    "'cbaabc'[2]"
   ]
  },
  {
   "cell_type": "code",
   "execution_count": 12,
   "id": "ee401a9f",
   "metadata": {},
   "outputs": [
    {
     "data": {
      "text/plain": [
       "2"
      ]
     },
     "execution_count": 12,
     "metadata": {},
     "output_type": "execute_result"
    }
   ],
   "source": [
    "'cbaaabc'.find('aa')"
   ]
  },
  {
   "cell_type": "code",
   "execution_count": 13,
   "id": "a08eb0e9",
   "metadata": {},
   "outputs": [
    {
     "data": {
      "text/plain": [
       "<re.Match object; span=(3, 6), match='123'>"
      ]
     },
     "execution_count": 13,
     "metadata": {},
     "output_type": "execute_result"
    }
   ],
   "source": [
    "s = 'foo123bar'\n",
    "\n",
    "re.search('123', s)"
   ]
  },
  {
   "cell_type": "code",
   "execution_count": 14,
   "id": "0635480e",
   "metadata": {},
   "outputs": [
    {
     "data": {
      "text/plain": [
       "'123'"
      ]
     },
     "execution_count": 14,
     "metadata": {},
     "output_type": "execute_result"
    }
   ],
   "source": [
    "s[3:6]"
   ]
  },
  {
   "cell_type": "code",
   "execution_count": 15,
   "id": "0ab6ad9c",
   "metadata": {},
   "outputs": [
    {
     "data": {
      "text/plain": [
       "<re.Match object; span=(3, 6), match='456'>"
      ]
     },
     "execution_count": 15,
     "metadata": {},
     "output_type": "execute_result"
    }
   ],
   "source": [
    "re.search(r'[0-9][0-9][0-9]', 'foo456bar')"
   ]
  },
  {
   "cell_type": "code",
   "execution_count": 16,
   "id": "8fa5318f",
   "metadata": {},
   "outputs": [
    {
     "data": {
      "text/plain": [
       "<re.Match object; span=(0, 3), match='234'>"
      ]
     },
     "execution_count": 16,
     "metadata": {},
     "output_type": "execute_result"
    }
   ],
   "source": [
    "re.search(r'[0-9][0-9][0-9]', '234baz')"
   ]
  },
  {
   "cell_type": "code",
   "execution_count": 17,
   "id": "4e7a6036",
   "metadata": {},
   "outputs": [
    {
     "data": {
      "text/plain": [
       "<re.Match object; span=(3, 6), match='678'>"
      ]
     },
     "execution_count": 17,
     "metadata": {},
     "output_type": "execute_result"
    }
   ],
   "source": [
    "re.search(r'[0-9][0-9][0-9]', 'qux678')"
   ]
  },
  {
   "cell_type": "code",
   "execution_count": 18,
   "id": "a4cf106c",
   "metadata": {},
   "outputs": [
    {
     "name": "stdout",
     "output_type": "stream",
     "text": [
      "None\n"
     ]
    }
   ],
   "source": [
    "print(re.search(r'[0-9][0-9][0-9]', '12foo34'))"
   ]
  },
  {
   "cell_type": "code",
   "execution_count": 19,
   "id": "bf4d5149",
   "metadata": {},
   "outputs": [
    {
     "data": {
      "text/plain": [
       "<re.Match object; span=(3, 6), match='678'>"
      ]
     },
     "execution_count": 19,
     "metadata": {},
     "output_type": "execute_result"
    }
   ],
   "source": [
    "re.search(r'[0-9]{3}', 'qux678')"
   ]
  },
  {
   "cell_type": "markdown",
   "id": "90a42789",
   "metadata": {},
   "source": [
    "## Google for Education\n",
    "\n",
    "***"
   ]
  },
  {
   "cell_type": "code",
   "execution_count": 20,
   "id": "cfef4bcc",
   "metadata": {},
   "outputs": [
    {
     "name": "stdout",
     "output_type": "stream",
     "text": [
      "found word:cat\n"
     ]
    }
   ],
   "source": [
    "import re\n",
    "\n",
    "str = 'an example word:cat!!'\n",
    "match = re.search(r'word:\\w\\w\\w', str)\n",
    "# If-statement after search() tests if it succeeded\n",
    "if match:\n",
    "  print('found', match.group()) ## 'found word:cat'\n",
    "else:\n",
    "  print('did not find')"
   ]
  },
  {
   "cell_type": "code",
   "execution_count": 21,
   "id": "b91cd49c",
   "metadata": {},
   "outputs": [
    {
     "data": {
      "text/plain": [
       "<re.Match object; span=(0, 4), match='aaaa'>"
      ]
     },
     "execution_count": 21,
     "metadata": {},
     "output_type": "execute_result"
    }
   ],
   "source": [
    "string = 'aaaabaa'\n",
    "pattern = r'a+'\n",
    "\n",
    "re.search(pattern, string)"
   ]
  },
  {
   "cell_type": "code",
   "execution_count": 22,
   "id": "c626ac5d",
   "metadata": {},
   "outputs": [
    {
     "data": {
      "text/plain": [
       "<re.Match object; span=(0, 4), match='aaaa'>"
      ]
     },
     "execution_count": 22,
     "metadata": {},
     "output_type": "execute_result"
    }
   ],
   "source": [
    "string = 'aaaabaa'\n",
    "pattern = r'a*'\n",
    "\n",
    "re.search(pattern, string)"
   ]
  },
  {
   "cell_type": "code",
   "execution_count": 23,
   "id": "b89062f4",
   "metadata": {},
   "outputs": [
    {
     "data": {
      "text/plain": [
       "<re.Match object; span=(0, 4), match='piii'>"
      ]
     },
     "execution_count": 23,
     "metadata": {},
     "output_type": "execute_result"
    }
   ],
   "source": [
    "## i+ = one or more i's, as many as possible.\n",
    "match = re.search(r'pi+', 'piiig') # found, match.group() == \"piii\"\n",
    "match"
   ]
  },
  {
   "cell_type": "code",
   "execution_count": 24,
   "id": "3a201f54",
   "metadata": {},
   "outputs": [
    {
     "data": {
      "text/plain": [
       "<re.Match object; span=(1, 3), match='ii'>"
      ]
     },
     "execution_count": 24,
     "metadata": {},
     "output_type": "execute_result"
    }
   ],
   "source": [
    "## Finds the first/leftmost solution, and within it drives the +\n",
    "## as far as possible (aka 'leftmost and largest').\n",
    "## In this example, note that it does not get to the second set of i's.\n",
    "match = re.search(r'i+', 'piigiiii') # found, match.group() == \"ii\"\n",
    "match"
   ]
  },
  {
   "cell_type": "code",
   "execution_count": 25,
   "id": "90e5ea0a",
   "metadata": {},
   "outputs": [
    {
     "name": "stdout",
     "output_type": "stream",
     "text": [
      "<re.Match object; span=(2, 9), match='1 2   3'>\n",
      "<re.Match object; span=(2, 7), match='12  3'>\n",
      "<re.Match object; span=(2, 5), match='123'>\n"
     ]
    }
   ],
   "source": [
    "## \\s* = zero or more whitespace chars\n",
    "## Here look for 3 digits, possibly separated by whitespace.\n",
    "match = re.search(r'\\d\\s*\\d\\s*\\d', 'xx1 2   3xx') # found, match.group() == \"1 2   3\"\n",
    "print(match)\n",
    "match = re.search(r'\\d\\s*\\d\\s*\\d', 'xx12  3xx') # found, match.group() == \"12  3\"\n",
    "print(match)\n",
    "match = re.search(r'\\d\\s*\\d\\s*\\d', 'xx123xx') # found, match.group() == \"123\"\n",
    "print(match)"
   ]
  },
  {
   "cell_type": "code",
   "execution_count": 26,
   "id": "81feb128",
   "metadata": {},
   "outputs": [],
   "source": [
    "## ^ = matches the start of string, so this fails:\n",
    "match = re.search(r'^b\\w+', 'foobar') # not found, match == None\n",
    "match"
   ]
  },
  {
   "cell_type": "code",
   "execution_count": 27,
   "id": "24be6ee5",
   "metadata": {},
   "outputs": [
    {
     "data": {
      "text/plain": [
       "<re.Match object; span=(3, 6), match='bar'>"
      ]
     },
     "execution_count": 27,
     "metadata": {},
     "output_type": "execute_result"
    }
   ],
   "source": [
    "## but without the ^ it succeeds:\n",
    "match = re.search(r'b\\w+', 'foobar') # found, match.group() == \"bar\"\n",
    "match"
   ]
  },
  {
   "cell_type": "code",
   "execution_count": 28,
   "id": "28994e59",
   "metadata": {},
   "outputs": [
    {
     "name": "stdout",
     "output_type": "stream",
     "text": [
      "b@google\n"
     ]
    }
   ],
   "source": [
    "str = 'purple alice-b@google.com monkey dishwasher'\n",
    "match = re.search(r'\\w+@\\w+', str)\n",
    "if match:\n",
    "    print(match.group())  ## 'b@google'\n"
   ]
  },
  {
   "cell_type": "code",
   "execution_count": 29,
   "id": "69fb4a55",
   "metadata": {},
   "outputs": [
    {
     "name": "stdout",
     "output_type": "stream",
     "text": [
      "alice-b@google.com\n"
     ]
    }
   ],
   "source": [
    "# Square Brackets \n",
    "# For the emails problem, the square brackets are an easy way to add '.' and '-' to the set of chars \n",
    "# which can appear around the @ with the pattern r'[\\w.-]+@[\\w.-]+' to get the whole email address:\n",
    "\n",
    "match = re.search(r'[\\w.-]+@[\\w.-]+', str)\n",
    "if match:\n",
    "    print(match.group())  ## 'alice-b@google.com'"
   ]
  },
  {
   "cell_type": "code",
   "execution_count": 30,
   "id": "54a4747c",
   "metadata": {},
   "outputs": [
    {
     "name": "stdout",
     "output_type": "stream",
     "text": [
      "alice-b@google.com\n",
      "alice-b\n",
      "google.com\n"
     ]
    }
   ],
   "source": [
    "# Group Extraction\n",
    "# The \"group\" feature of a regular expression allows you to pick out parts of the matching text, using (). \n",
    "\n",
    "str = 'purple alice-b@google.com monkey dishwasher'\n",
    "match = re.search(r'([\\w.-]+)@([\\w.-]+)', str)\n",
    "if match:\n",
    "    print(match.group())   ## 'alice-b@google.com' (the whole match)\n",
    "    print(match.group(1))  ## 'alice-b' (the username, group 1)\n",
    "    print(match.group(2))  ## 'google.com' (the host, group 2)"
   ]
  },
  {
   "cell_type": "code",
   "execution_count": 31,
   "id": "9b452b50",
   "metadata": {},
   "outputs": [
    {
     "name": "stdout",
     "output_type": "stream",
     "text": [
      "alice@google.com\n",
      "bob@abc.com\n"
     ]
    }
   ],
   "source": [
    "## Findall\n",
    "\n",
    "# findall() finds *all* the matches and returns them as a list of strings, with each string representing one match.\n",
    "\n",
    "## Suppose we have a text with many email addresses\n",
    "str = 'purple alice@google.com, blah monkey bob@abc.com blah dishwasher'\n",
    "\n",
    "## Here re.findall() returns a list of all the found email strings\n",
    "emails = re.findall(r'[\\w\\.-]+@[\\w\\.-]+', str) ## ['alice@google.com', 'bob@abc.com']\n",
    "for email in emails:\n",
    "    # do something with each found email string\n",
    "    print(email)\n",
    "\n"
   ]
  },
  {
   "cell_type": "code",
   "execution_count": null,
   "id": "0023e110",
   "metadata": {},
   "outputs": [],
   "source": []
  },
  {
   "cell_type": "markdown",
   "id": "41323152",
   "metadata": {},
   "source": [
    "## Exercise 1"
   ]
  },
  {
   "cell_type": "markdown",
   "id": "27452ba9",
   "metadata": {},
   "source": [
    "Write a Python function to remove all non-alphanumeric characters from a string."
   ]
  },
  {
   "cell_type": "code",
   "execution_count": null,
   "id": "39d04a41",
   "metadata": {},
   "outputs": [],
   "source": []
  }
 ],
 "metadata": {
  "kernelspec": {
   "display_name": "Python 3 (ipykernel)",
   "language": "python",
   "name": "python3"
  },
  "language_info": {
   "codemirror_mode": {
    "name": "ipython",
    "version": 3
   },
   "file_extension": ".py",
   "mimetype": "text/x-python",
   "name": "python",
   "nbconvert_exporter": "python",
   "pygments_lexer": "ipython3",
   "version": "3.10.2"
  }
 },
 "nbformat": 4,
 "nbformat_minor": 5
}

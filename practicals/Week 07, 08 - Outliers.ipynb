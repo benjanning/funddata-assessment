{
 "cells": [
  {
   "cell_type": "markdown",
   "id": "68aeffe5",
   "metadata": {},
   "source": [
    "## Exercise 1\n",
    "Remember to do these exercises in your own notebook in your assessment repository.\n",
    "\n",
    "Create box plots on a single set of axes for all five experiments in the morley data set.\n",
    "\n",
    "Code referenced: Ian McLoughlin Outliers: \n",
    "https://github.com/ianmcloughlin/2223-S1-fund-data-analysis/blob/main/notebooks/04-outliers.ipynb"
   ]
  },
  {
   "cell_type": "code",
   "execution_count": 37,
   "id": "74e460fb",
   "metadata": {},
   "outputs": [],
   "source": [
    "# Numerical arrays.\n",
    "import numpy as np\n",
    "\n",
    "# Plotting.\n",
    "import matplotlib.pyplot as plt\n",
    "\n",
    "# Statistics.\n",
    "import scipy.stats as ss\n",
    "\n",
    "#Pandas\n",
    "import pandas as pd"
   ]
  },
  {
   "cell_type": "code",
   "execution_count": 38,
   "id": "41ca51cc",
   "metadata": {},
   "outputs": [
    {
     "ename": "ValueError",
     "evalue": "Some errors were detected !\n    Line #22 (got 367 columns instead of 1)\n    Line #78 (got 3 columns instead of 1)\n    Line #127 (got 3 columns instead of 1)\n    Line #193 (got 3 columns instead of 1)\n    Line #220 (got 2 columns instead of 1)\n    Line #421 (got 3 columns instead of 1)\n    Line #423 (got 3 columns instead of 1)\n    Line #426 (got 3 columns instead of 1)\n    Line #428 (got 3 columns instead of 1)\n    Line #431 (got 3 columns instead of 1)\n    Line #434 (got 3 columns instead of 1)\n    Line #436 (got 7 columns instead of 1)\n    Line #449 (got 3 columns instead of 1)\n    Line #467 (got 3 columns instead of 1)\n    Line #489 (got 3 columns instead of 1)\n    Line #511 (got 3 columns instead of 1)\n    Line #519 (got 2 columns instead of 1)\n    Line #523 (got 2 columns instead of 1)\n    Line #531 (got 2 columns instead of 1)\n    Line #535 (got 2 columns instead of 1)\n    Line #553 (got 3 columns instead of 1)\n    Line #575 (got 2 columns instead of 1)\n    Line #638 (got 2 columns instead of 1)\n    Line #657 (got 2 columns instead of 1)\n    Line #658 (got 4 columns instead of 1)\n    Line #662 (got 2 columns instead of 1)\n    Line #668 (got 3 columns instead of 1)\n    Line #804 (got 3 columns instead of 1)\n    Line #819 (got 3 columns instead of 1)\n    Line #834 (got 2 columns instead of 1)\n    Line #849 (got 2 columns instead of 1)\n    Line #894 (got 3 columns instead of 1)\n    Line #909 (got 3 columns instead of 1)\n    Line #924 (got 3 columns instead of 1)\n    Line #939 (got 3 columns instead of 1)\n    Line #954 (got 3 columns instead of 1)\n    Line #969 (got 2 columns instead of 1)\n    Line #984 (got 3 columns instead of 1)\n    Line #1092 (got 4 columns instead of 1)\n    Line #1100 (got 3 columns instead of 1)\n    Line #1162 (got 3 columns instead of 1)\n    Line #1210 (got 4 columns instead of 1)\n    Line #1266 (got 2 columns instead of 1)\n    Line #1268 (got 4 columns instead of 1)\n    Line #1278 (got 3 columns instead of 1)\n    Line #1286 (got 2 columns instead of 1)\n    Line #1316 (got 3 columns instead of 1)\n    Line #1325 (got 3 columns instead of 1)\n    Line #1351 (got 2 columns instead of 1)\n    Line #1361 (got 2 columns instead of 1)\n    Line #1372 (got 3 columns instead of 1)\n    Line #1393 (got 3 columns instead of 1)\n    Line #1402 (got 3 columns instead of 1)\n    Line #1410 (got 2 columns instead of 1)\n    Line #1411 (got 2 columns instead of 1)\n    Line #1419 (got 4 columns instead of 1)\n    Line #1420 (got 2 columns instead of 1)\n    Line #1428 (got 4 columns instead of 1)\n    Line #1429 (got 2 columns instead of 1)\n    Line #1447 (got 2 columns instead of 1)\n    Line #1456 (got 2 columns instead of 1)\n    Line #1465 (got 3 columns instead of 1)\n    Line #1473 (got 2 columns instead of 1)\n    Line #1482 (got 4 columns instead of 1)\n    Line #1483 (got 2 columns instead of 1)\n    Line #1602 (got 7 columns instead of 1)\n    Line #1933 (got 7 columns instead of 1)\n    Line #2002 (got 7 columns instead of 1)\n    Line #2049 (got 7 columns instead of 1)\n    Line #2243 (got 3 columns instead of 1)\n    Line #2268 (got 5 columns instead of 1)\n    Line #2438 (got 2 columns instead of 1)\n    Line #2463 (got 7 columns instead of 1)\n    Line #2504 (got 2 columns instead of 1)\n    Line #2569 (got 6 columns instead of 1)\n    Line #2577 (got 5 columns instead of 1)\n    Line #2581 (got 2 columns instead of 1)\n    Line #2595 (got 5 columns instead of 1)\n    Line #2637 (got 6 columns instead of 1)\n    Line #2647 (got 2 columns instead of 1)\n    Line #2661 (got 5 columns instead of 1)\n    Line #2694 (got 5 columns instead of 1)\n    Line #2724 (got 2 columns instead of 1)\n    Line #3500 (got 2 columns instead of 1)\n    Line #3508 (got 3 columns instead of 1)\n    Line #3509 (got 3 columns instead of 1)\n    Line #3510 (got 3 columns instead of 1)\n    Line #3511 (got 3 columns instead of 1)\n    Line #3512 (got 3 columns instead of 1)\n    Line #3513 (got 3 columns instead of 1)\n    Line #3514 (got 3 columns instead of 1)\n    Line #3515 (got 3 columns instead of 1)\n    Line #3516 (got 3 columns instead of 1)\n    Line #3517 (got 3 columns instead of 1)\n    Line #3518 (got 3 columns instead of 1)",
     "output_type": "error",
     "traceback": [
      "\u001b[1;31m---------------------------------------------------------------------------\u001b[0m",
      "\u001b[1;31mValueError\u001b[0m                                Traceback (most recent call last)",
      "Input \u001b[1;32mIn [38]\u001b[0m, in \u001b[0;36m<cell line: 2>\u001b[1;34m()\u001b[0m\n\u001b[0;32m      1\u001b[0m \u001b[38;5;66;03m# Read in the morley data.\u001b[39;00m\n\u001b[1;32m----> 2\u001b[0m data \u001b[38;5;241m=\u001b[39m \u001b[43mnp\u001b[49m\u001b[38;5;241;43m.\u001b[39;49m\u001b[43mgenfromtxt\u001b[49m\u001b[43m(\u001b[49m\u001b[38;5;124;43m'\u001b[39;49m\u001b[38;5;124;43mdata/morley.csv\u001b[39;49m\u001b[38;5;124;43m'\u001b[39;49m\u001b[43m,\u001b[49m\u001b[43m \u001b[49m\u001b[43mskip_header\u001b[49m\u001b[38;5;241;43m=\u001b[39;49m\u001b[38;5;241;43m1\u001b[39;49m\u001b[43m,\u001b[49m\u001b[43m \u001b[49m\u001b[43mdelimiter\u001b[49m\u001b[38;5;241;43m=\u001b[39;49m\u001b[38;5;124;43m'\u001b[39;49m\u001b[38;5;124;43m,\u001b[39;49m\u001b[38;5;124;43m'\u001b[39;49m\u001b[43m,\u001b[49m\u001b[43m \u001b[49m\u001b[43mdeletechars\u001b[49m\u001b[38;5;241;43m=\u001b[39;49m\u001b[38;5;124;43m'\u001b[39;49m\u001b[38;5;124;43m\"\u001b[39;49m\u001b[38;5;124;43m'\u001b[39;49m\u001b[43m)\u001b[49m\n\u001b[0;32m      4\u001b[0m \u001b[38;5;66;03m# Remove the first column.\u001b[39;00m\n\u001b[0;32m      5\u001b[0m data \u001b[38;5;241m=\u001b[39m data[:,\u001b[38;5;241m1\u001b[39m:]\n",
      "File \u001b[1;32m~\\AppData\\Local\\Programs\\Python\\Python310\\lib\\site-packages\\numpy\\lib\\npyio.py:2145\u001b[0m, in \u001b[0;36mgenfromtxt\u001b[1;34m(fname, dtype, comments, delimiter, skip_header, skip_footer, converters, missing_values, filling_values, usecols, names, excludelist, deletechars, replace_space, autostrip, case_sensitive, defaultfmt, unpack, usemask, loose, invalid_raise, max_rows, encoding, like)\u001b[0m\n\u001b[0;32m   2143\u001b[0m \u001b[38;5;66;03m# Raise an exception ?\u001b[39;00m\n\u001b[0;32m   2144\u001b[0m \u001b[38;5;28;01mif\u001b[39;00m invalid_raise:\n\u001b[1;32m-> 2145\u001b[0m     \u001b[38;5;28;01mraise\u001b[39;00m \u001b[38;5;167;01mValueError\u001b[39;00m(errmsg)\n\u001b[0;32m   2146\u001b[0m \u001b[38;5;66;03m# Issue a warning ?\u001b[39;00m\n\u001b[0;32m   2147\u001b[0m \u001b[38;5;28;01melse\u001b[39;00m:\n\u001b[0;32m   2148\u001b[0m     warnings\u001b[38;5;241m.\u001b[39mwarn(errmsg, ConversionWarning, stacklevel\u001b[38;5;241m=\u001b[39m\u001b[38;5;241m2\u001b[39m)\n",
      "\u001b[1;31mValueError\u001b[0m: Some errors were detected !\n    Line #22 (got 367 columns instead of 1)\n    Line #78 (got 3 columns instead of 1)\n    Line #127 (got 3 columns instead of 1)\n    Line #193 (got 3 columns instead of 1)\n    Line #220 (got 2 columns instead of 1)\n    Line #421 (got 3 columns instead of 1)\n    Line #423 (got 3 columns instead of 1)\n    Line #426 (got 3 columns instead of 1)\n    Line #428 (got 3 columns instead of 1)\n    Line #431 (got 3 columns instead of 1)\n    Line #434 (got 3 columns instead of 1)\n    Line #436 (got 7 columns instead of 1)\n    Line #449 (got 3 columns instead of 1)\n    Line #467 (got 3 columns instead of 1)\n    Line #489 (got 3 columns instead of 1)\n    Line #511 (got 3 columns instead of 1)\n    Line #519 (got 2 columns instead of 1)\n    Line #523 (got 2 columns instead of 1)\n    Line #531 (got 2 columns instead of 1)\n    Line #535 (got 2 columns instead of 1)\n    Line #553 (got 3 columns instead of 1)\n    Line #575 (got 2 columns instead of 1)\n    Line #638 (got 2 columns instead of 1)\n    Line #657 (got 2 columns instead of 1)\n    Line #658 (got 4 columns instead of 1)\n    Line #662 (got 2 columns instead of 1)\n    Line #668 (got 3 columns instead of 1)\n    Line #804 (got 3 columns instead of 1)\n    Line #819 (got 3 columns instead of 1)\n    Line #834 (got 2 columns instead of 1)\n    Line #849 (got 2 columns instead of 1)\n    Line #894 (got 3 columns instead of 1)\n    Line #909 (got 3 columns instead of 1)\n    Line #924 (got 3 columns instead of 1)\n    Line #939 (got 3 columns instead of 1)\n    Line #954 (got 3 columns instead of 1)\n    Line #969 (got 2 columns instead of 1)\n    Line #984 (got 3 columns instead of 1)\n    Line #1092 (got 4 columns instead of 1)\n    Line #1100 (got 3 columns instead of 1)\n    Line #1162 (got 3 columns instead of 1)\n    Line #1210 (got 4 columns instead of 1)\n    Line #1266 (got 2 columns instead of 1)\n    Line #1268 (got 4 columns instead of 1)\n    Line #1278 (got 3 columns instead of 1)\n    Line #1286 (got 2 columns instead of 1)\n    Line #1316 (got 3 columns instead of 1)\n    Line #1325 (got 3 columns instead of 1)\n    Line #1351 (got 2 columns instead of 1)\n    Line #1361 (got 2 columns instead of 1)\n    Line #1372 (got 3 columns instead of 1)\n    Line #1393 (got 3 columns instead of 1)\n    Line #1402 (got 3 columns instead of 1)\n    Line #1410 (got 2 columns instead of 1)\n    Line #1411 (got 2 columns instead of 1)\n    Line #1419 (got 4 columns instead of 1)\n    Line #1420 (got 2 columns instead of 1)\n    Line #1428 (got 4 columns instead of 1)\n    Line #1429 (got 2 columns instead of 1)\n    Line #1447 (got 2 columns instead of 1)\n    Line #1456 (got 2 columns instead of 1)\n    Line #1465 (got 3 columns instead of 1)\n    Line #1473 (got 2 columns instead of 1)\n    Line #1482 (got 4 columns instead of 1)\n    Line #1483 (got 2 columns instead of 1)\n    Line #1602 (got 7 columns instead of 1)\n    Line #1933 (got 7 columns instead of 1)\n    Line #2002 (got 7 columns instead of 1)\n    Line #2049 (got 7 columns instead of 1)\n    Line #2243 (got 3 columns instead of 1)\n    Line #2268 (got 5 columns instead of 1)\n    Line #2438 (got 2 columns instead of 1)\n    Line #2463 (got 7 columns instead of 1)\n    Line #2504 (got 2 columns instead of 1)\n    Line #2569 (got 6 columns instead of 1)\n    Line #2577 (got 5 columns instead of 1)\n    Line #2581 (got 2 columns instead of 1)\n    Line #2595 (got 5 columns instead of 1)\n    Line #2637 (got 6 columns instead of 1)\n    Line #2647 (got 2 columns instead of 1)\n    Line #2661 (got 5 columns instead of 1)\n    Line #2694 (got 5 columns instead of 1)\n    Line #2724 (got 2 columns instead of 1)\n    Line #3500 (got 2 columns instead of 1)\n    Line #3508 (got 3 columns instead of 1)\n    Line #3509 (got 3 columns instead of 1)\n    Line #3510 (got 3 columns instead of 1)\n    Line #3511 (got 3 columns instead of 1)\n    Line #3512 (got 3 columns instead of 1)\n    Line #3513 (got 3 columns instead of 1)\n    Line #3514 (got 3 columns instead of 1)\n    Line #3515 (got 3 columns instead of 1)\n    Line #3516 (got 3 columns instead of 1)\n    Line #3517 (got 3 columns instead of 1)\n    Line #3518 (got 3 columns instead of 1)"
     ]
    }
   ],
   "source": [
    "# Read in the morley data.\n",
    "data = np.genfromtxt('data/morley.csv', skip_header=1, delimiter=',', deletechars='\"')\n",
    "\n",
    "# Remove the first column.\n",
    "data = data[:,1:]"
   ]
  },
  {
   "cell_type": "code",
   "execution_count": null,
   "id": "611eabf2",
   "metadata": {},
   "outputs": [],
   "source": [
    "# Select the data for the first experiment.\n",
    "exper_1 = data[:20, 2]\n",
    "\n",
    "exper_1"
   ]
  },
  {
   "cell_type": "code",
   "execution_count": null,
   "id": "177e9659",
   "metadata": {},
   "outputs": [],
   "source": [
    "# Select the data for the second experiment.\n",
    "exper_2 = data[20:40, 2]\n",
    "\n",
    "exper_2"
   ]
  },
  {
   "cell_type": "code",
   "execution_count": null,
   "id": "bdc3a6c1",
   "metadata": {},
   "outputs": [],
   "source": [
    "# Select the data for the third experiment.\n",
    "exper_3 = data[40:60, 2]\n",
    "\n",
    "exper_3"
   ]
  },
  {
   "cell_type": "code",
   "execution_count": null,
   "id": "b18a987e",
   "metadata": {},
   "outputs": [],
   "source": [
    "# Select the data for the fourth experiment.\n",
    "exper_4 = data[60:80, 2]\n",
    "\n",
    "exper_4"
   ]
  },
  {
   "cell_type": "code",
   "execution_count": null,
   "id": "6c8c9517",
   "metadata": {},
   "outputs": [],
   "source": [
    "# Select the data for the fifth experiment.\n",
    "exper_5 = data[80:100, 2]\n",
    "\n",
    "exper_5"
   ]
  },
  {
   "cell_type": "code",
   "execution_count": null,
   "id": "95fb21ad",
   "metadata": {},
   "outputs": [],
   "source": [
    "# Create a box plot.\n",
    "plt.boxplot(np.array([exper_1, exper_2, exper_3, exper_4, exper_5]).T);"
   ]
  },
  {
   "cell_type": "markdown",
   "id": "069a2519",
   "metadata": {},
   "source": [
    "## Exercise 2\n",
    "\n",
    "Remember to do these exercises in your own notebook in your assessment repository.\n",
    "\n",
    "Create box plots for all of the numercial variables in Fisher's Iris Data Set."
   ]
  },
  {
   "cell_type": "code",
   "execution_count": 39,
   "id": "c7a0088b",
   "metadata": {},
   "outputs": [
    {
     "ename": "ValueError",
     "evalue": "Some errors were detected !\n    Line #22 (got 367 columns instead of 1)\n    Line #78 (got 3 columns instead of 1)\n    Line #127 (got 3 columns instead of 1)\n    Line #193 (got 3 columns instead of 1)\n    Line #220 (got 2 columns instead of 1)\n    Line #421 (got 3 columns instead of 1)\n    Line #423 (got 3 columns instead of 1)\n    Line #426 (got 3 columns instead of 1)\n    Line #428 (got 3 columns instead of 1)\n    Line #431 (got 3 columns instead of 1)\n    Line #434 (got 3 columns instead of 1)\n    Line #436 (got 7 columns instead of 1)\n    Line #449 (got 3 columns instead of 1)\n    Line #467 (got 3 columns instead of 1)\n    Line #489 (got 3 columns instead of 1)\n    Line #511 (got 3 columns instead of 1)\n    Line #519 (got 2 columns instead of 1)\n    Line #523 (got 2 columns instead of 1)\n    Line #531 (got 2 columns instead of 1)\n    Line #535 (got 2 columns instead of 1)\n    Line #553 (got 3 columns instead of 1)\n    Line #575 (got 2 columns instead of 1)\n    Line #638 (got 2 columns instead of 1)\n    Line #657 (got 2 columns instead of 1)\n    Line #658 (got 4 columns instead of 1)\n    Line #662 (got 2 columns instead of 1)\n    Line #668 (got 3 columns instead of 1)\n    Line #804 (got 3 columns instead of 1)\n    Line #819 (got 3 columns instead of 1)\n    Line #834 (got 2 columns instead of 1)\n    Line #849 (got 2 columns instead of 1)\n    Line #894 (got 3 columns instead of 1)\n    Line #909 (got 3 columns instead of 1)\n    Line #924 (got 3 columns instead of 1)\n    Line #939 (got 3 columns instead of 1)\n    Line #954 (got 3 columns instead of 1)\n    Line #969 (got 2 columns instead of 1)\n    Line #984 (got 3 columns instead of 1)\n    Line #1092 (got 4 columns instead of 1)\n    Line #1100 (got 3 columns instead of 1)\n    Line #1162 (got 3 columns instead of 1)\n    Line #1210 (got 4 columns instead of 1)\n    Line #1266 (got 2 columns instead of 1)\n    Line #1268 (got 4 columns instead of 1)\n    Line #1278 (got 3 columns instead of 1)\n    Line #1286 (got 2 columns instead of 1)\n    Line #1316 (got 3 columns instead of 1)\n    Line #1325 (got 3 columns instead of 1)\n    Line #1351 (got 2 columns instead of 1)\n    Line #1361 (got 2 columns instead of 1)\n    Line #1372 (got 3 columns instead of 1)\n    Line #1393 (got 3 columns instead of 1)\n    Line #1402 (got 3 columns instead of 1)\n    Line #1410 (got 2 columns instead of 1)\n    Line #1411 (got 2 columns instead of 1)\n    Line #1419 (got 4 columns instead of 1)\n    Line #1420 (got 2 columns instead of 1)\n    Line #1428 (got 4 columns instead of 1)\n    Line #1429 (got 2 columns instead of 1)\n    Line #1447 (got 2 columns instead of 1)\n    Line #1456 (got 2 columns instead of 1)\n    Line #1465 (got 3 columns instead of 1)\n    Line #1473 (got 2 columns instead of 1)\n    Line #1482 (got 4 columns instead of 1)\n    Line #1483 (got 2 columns instead of 1)\n    Line #1610 (got 7 columns instead of 1)\n    Line #2010 (got 7 columns instead of 1)\n    Line #2057 (got 7 columns instead of 1)\n    Line #2283 (got 3 columns instead of 1)\n    Line #2308 (got 5 columns instead of 1)\n    Line #2387 (got 6 columns instead of 1)\n    Line #2502 (got 2 columns instead of 1)\n    Line #2527 (got 7 columns instead of 1)\n    Line #2568 (got 2 columns instead of 1)\n    Line #2633 (got 6 columns instead of 1)\n    Line #2641 (got 5 columns instead of 1)\n    Line #2645 (got 2 columns instead of 1)\n    Line #2659 (got 5 columns instead of 1)\n    Line #2701 (got 6 columns instead of 1)\n    Line #2711 (got 2 columns instead of 1)\n    Line #2725 (got 5 columns instead of 1)\n    Line #2758 (got 5 columns instead of 1)\n    Line #2788 (got 2 columns instead of 1)\n    Line #4065 (got 2 columns instead of 1)\n    Line #4073 (got 3 columns instead of 1)\n    Line #4074 (got 3 columns instead of 1)\n    Line #4075 (got 3 columns instead of 1)\n    Line #4076 (got 3 columns instead of 1)\n    Line #4077 (got 3 columns instead of 1)\n    Line #4078 (got 3 columns instead of 1)\n    Line #4079 (got 3 columns instead of 1)\n    Line #4080 (got 3 columns instead of 1)\n    Line #4081 (got 3 columns instead of 1)\n    Line #4082 (got 3 columns instead of 1)\n    Line #4083 (got 3 columns instead of 1)",
     "output_type": "error",
     "traceback": [
      "\u001b[1;31m---------------------------------------------------------------------------\u001b[0m",
      "\u001b[1;31mValueError\u001b[0m                                Traceback (most recent call last)",
      "Input \u001b[1;32mIn [39]\u001b[0m, in \u001b[0;36m<cell line: 3>\u001b[1;34m()\u001b[0m\n\u001b[0;32m      1\u001b[0m \u001b[38;5;66;03m#Load Iris Data Set\u001b[39;00m\n\u001b[1;32m----> 3\u001b[0m data \u001b[38;5;241m=\u001b[39m \u001b[43mnp\u001b[49m\u001b[38;5;241;43m.\u001b[39;49m\u001b[43mgenfromtxt\u001b[49m\u001b[43m(\u001b[49m\u001b[38;5;124;43m'\u001b[39;49m\u001b[38;5;124;43mdata/iris.csv\u001b[39;49m\u001b[38;5;124;43m'\u001b[39;49m\u001b[43m,\u001b[49m\u001b[43m \u001b[49m\u001b[43mskip_header\u001b[49m\u001b[38;5;241;43m=\u001b[39;49m\u001b[38;5;241;43m1\u001b[39;49m\u001b[43m,\u001b[49m\u001b[43m \u001b[49m\u001b[43mdelimiter\u001b[49m\u001b[38;5;241;43m=\u001b[39;49m\u001b[38;5;124;43m'\u001b[39;49m\u001b[38;5;124;43m,\u001b[39;49m\u001b[38;5;124;43m'\u001b[39;49m\u001b[43m,\u001b[49m\u001b[43m \u001b[49m\u001b[43mdeletechars\u001b[49m\u001b[38;5;241;43m=\u001b[39;49m\u001b[38;5;124;43m'\u001b[39;49m\u001b[38;5;124;43m\"\u001b[39;49m\u001b[38;5;124;43m'\u001b[39;49m\u001b[43m)\u001b[49m\n\u001b[0;32m      5\u001b[0m \u001b[38;5;66;03m# Remove the first column.\u001b[39;00m\n\u001b[0;32m      6\u001b[0m data \u001b[38;5;241m=\u001b[39m data[:,\u001b[38;5;241m1\u001b[39m:]\n",
      "File \u001b[1;32m~\\AppData\\Local\\Programs\\Python\\Python310\\lib\\site-packages\\numpy\\lib\\npyio.py:2145\u001b[0m, in \u001b[0;36mgenfromtxt\u001b[1;34m(fname, dtype, comments, delimiter, skip_header, skip_footer, converters, missing_values, filling_values, usecols, names, excludelist, deletechars, replace_space, autostrip, case_sensitive, defaultfmt, unpack, usemask, loose, invalid_raise, max_rows, encoding, like)\u001b[0m\n\u001b[0;32m   2143\u001b[0m \u001b[38;5;66;03m# Raise an exception ?\u001b[39;00m\n\u001b[0;32m   2144\u001b[0m \u001b[38;5;28;01mif\u001b[39;00m invalid_raise:\n\u001b[1;32m-> 2145\u001b[0m     \u001b[38;5;28;01mraise\u001b[39;00m \u001b[38;5;167;01mValueError\u001b[39;00m(errmsg)\n\u001b[0;32m   2146\u001b[0m \u001b[38;5;66;03m# Issue a warning ?\u001b[39;00m\n\u001b[0;32m   2147\u001b[0m \u001b[38;5;28;01melse\u001b[39;00m:\n\u001b[0;32m   2148\u001b[0m     warnings\u001b[38;5;241m.\u001b[39mwarn(errmsg, ConversionWarning, stacklevel\u001b[38;5;241m=\u001b[39m\u001b[38;5;241m2\u001b[39m)\n",
      "\u001b[1;31mValueError\u001b[0m: Some errors were detected !\n    Line #22 (got 367 columns instead of 1)\n    Line #78 (got 3 columns instead of 1)\n    Line #127 (got 3 columns instead of 1)\n    Line #193 (got 3 columns instead of 1)\n    Line #220 (got 2 columns instead of 1)\n    Line #421 (got 3 columns instead of 1)\n    Line #423 (got 3 columns instead of 1)\n    Line #426 (got 3 columns instead of 1)\n    Line #428 (got 3 columns instead of 1)\n    Line #431 (got 3 columns instead of 1)\n    Line #434 (got 3 columns instead of 1)\n    Line #436 (got 7 columns instead of 1)\n    Line #449 (got 3 columns instead of 1)\n    Line #467 (got 3 columns instead of 1)\n    Line #489 (got 3 columns instead of 1)\n    Line #511 (got 3 columns instead of 1)\n    Line #519 (got 2 columns instead of 1)\n    Line #523 (got 2 columns instead of 1)\n    Line #531 (got 2 columns instead of 1)\n    Line #535 (got 2 columns instead of 1)\n    Line #553 (got 3 columns instead of 1)\n    Line #575 (got 2 columns instead of 1)\n    Line #638 (got 2 columns instead of 1)\n    Line #657 (got 2 columns instead of 1)\n    Line #658 (got 4 columns instead of 1)\n    Line #662 (got 2 columns instead of 1)\n    Line #668 (got 3 columns instead of 1)\n    Line #804 (got 3 columns instead of 1)\n    Line #819 (got 3 columns instead of 1)\n    Line #834 (got 2 columns instead of 1)\n    Line #849 (got 2 columns instead of 1)\n    Line #894 (got 3 columns instead of 1)\n    Line #909 (got 3 columns instead of 1)\n    Line #924 (got 3 columns instead of 1)\n    Line #939 (got 3 columns instead of 1)\n    Line #954 (got 3 columns instead of 1)\n    Line #969 (got 2 columns instead of 1)\n    Line #984 (got 3 columns instead of 1)\n    Line #1092 (got 4 columns instead of 1)\n    Line #1100 (got 3 columns instead of 1)\n    Line #1162 (got 3 columns instead of 1)\n    Line #1210 (got 4 columns instead of 1)\n    Line #1266 (got 2 columns instead of 1)\n    Line #1268 (got 4 columns instead of 1)\n    Line #1278 (got 3 columns instead of 1)\n    Line #1286 (got 2 columns instead of 1)\n    Line #1316 (got 3 columns instead of 1)\n    Line #1325 (got 3 columns instead of 1)\n    Line #1351 (got 2 columns instead of 1)\n    Line #1361 (got 2 columns instead of 1)\n    Line #1372 (got 3 columns instead of 1)\n    Line #1393 (got 3 columns instead of 1)\n    Line #1402 (got 3 columns instead of 1)\n    Line #1410 (got 2 columns instead of 1)\n    Line #1411 (got 2 columns instead of 1)\n    Line #1419 (got 4 columns instead of 1)\n    Line #1420 (got 2 columns instead of 1)\n    Line #1428 (got 4 columns instead of 1)\n    Line #1429 (got 2 columns instead of 1)\n    Line #1447 (got 2 columns instead of 1)\n    Line #1456 (got 2 columns instead of 1)\n    Line #1465 (got 3 columns instead of 1)\n    Line #1473 (got 2 columns instead of 1)\n    Line #1482 (got 4 columns instead of 1)\n    Line #1483 (got 2 columns instead of 1)\n    Line #1610 (got 7 columns instead of 1)\n    Line #2010 (got 7 columns instead of 1)\n    Line #2057 (got 7 columns instead of 1)\n    Line #2283 (got 3 columns instead of 1)\n    Line #2308 (got 5 columns instead of 1)\n    Line #2387 (got 6 columns instead of 1)\n    Line #2502 (got 2 columns instead of 1)\n    Line #2527 (got 7 columns instead of 1)\n    Line #2568 (got 2 columns instead of 1)\n    Line #2633 (got 6 columns instead of 1)\n    Line #2641 (got 5 columns instead of 1)\n    Line #2645 (got 2 columns instead of 1)\n    Line #2659 (got 5 columns instead of 1)\n    Line #2701 (got 6 columns instead of 1)\n    Line #2711 (got 2 columns instead of 1)\n    Line #2725 (got 5 columns instead of 1)\n    Line #2758 (got 5 columns instead of 1)\n    Line #2788 (got 2 columns instead of 1)\n    Line #4065 (got 2 columns instead of 1)\n    Line #4073 (got 3 columns instead of 1)\n    Line #4074 (got 3 columns instead of 1)\n    Line #4075 (got 3 columns instead of 1)\n    Line #4076 (got 3 columns instead of 1)\n    Line #4077 (got 3 columns instead of 1)\n    Line #4078 (got 3 columns instead of 1)\n    Line #4079 (got 3 columns instead of 1)\n    Line #4080 (got 3 columns instead of 1)\n    Line #4081 (got 3 columns instead of 1)\n    Line #4082 (got 3 columns instead of 1)\n    Line #4083 (got 3 columns instead of 1)"
     ]
    }
   ],
   "source": [
    "#Load Iris Data Set\n",
    "\n",
    "data = np.genfromtxt('data/iris.csv', skip_header=1, delimiter=',', deletechars='\"')\n",
    "\n",
    "# Remove the first column.\n",
    "data = data[:,1:]"
   ]
  },
  {
   "cell_type": "code",
   "execution_count": null,
   "id": "594f7760",
   "metadata": {},
   "outputs": [],
   "source": []
  },
  {
   "cell_type": "code",
   "execution_count": null,
   "id": "57f1adaf",
   "metadata": {},
   "outputs": [],
   "source": []
  },
  {
   "cell_type": "code",
   "execution_count": null,
   "id": "00b39191",
   "metadata": {},
   "outputs": [],
   "source": []
  },
  {
   "cell_type": "markdown",
   "id": "a5303bfc",
   "metadata": {},
   "source": [
    "## Exercise 3\n",
    "\n",
    "Remember to do these exercises in your own notebook in your assessment repository.\n",
    "\n",
    "Adapt the above code and plots so that the overall plot is inversely propertional and the individual groups are directly proportional."
   ]
  },
  {
   "cell_type": "code",
   "execution_count": null,
   "id": "1b8323e9",
   "metadata": {},
   "outputs": [],
   "source": []
  },
  {
   "cell_type": "code",
   "execution_count": null,
   "id": "0cd3ac8c",
   "metadata": {},
   "outputs": [],
   "source": []
  }
 ],
 "metadata": {
  "kernelspec": {
   "display_name": "Python 3 (ipykernel)",
   "language": "python",
   "name": "python3"
  },
  "language_info": {
   "codemirror_mode": {
    "name": "ipython",
    "version": 3
   },
   "file_extension": ".py",
   "mimetype": "text/x-python",
   "name": "python",
   "nbconvert_exporter": "python",
   "pygments_lexer": "ipython3",
   "version": "3.10.2"
  }
 },
 "nbformat": 4,
 "nbformat_minor": 5
}
